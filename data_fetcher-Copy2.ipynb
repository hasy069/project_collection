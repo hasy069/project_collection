{
 "cells": [
  {
   "cell_type": "code",
   "execution_count": 2,
   "id": "376a38df-d8af-44f3-973a-7938d82fdf63",
   "metadata": {},
   "outputs": [],
   "source": [
    "import requests\n",
    "import pandas as pd\n",
    "import time\n",
    "from datetime import datetime, timedelta\n",
    "\n",
    "import gc"
   ]
  },
  {
   "cell_type": "code",
   "execution_count": 4,
   "id": "2719fdb3-33e1-4a13-b539-8a1f1a0262ba",
   "metadata": {},
   "outputs": [],
   "source": [
    "def get_binance_minute_data(symbol: str, start_ms: str, end_ms: str, interval: str) -> pd.DataFrame:\n",
    "    url = 'https://api.binance.com/api/v3/klines'\n",
    "    interval = \"1h\"\n",
    "    frames = []\n",
    "    \n",
    "    while start_ms < end_ms:\n",
    "        params = {\n",
    "            'symbol': symbol,\n",
    "            'interval': interval,\n",
    "            'startTime': start_ms,\n",
    "            'endTime': end_ms,\n",
    "            'limit': 1000\n",
    "        }\n",
    "        resp = requests.get(url, params=params)\n",
    "        resp.raise_for_status()\n",
    "        data = resp.json()\n",
    "        if not data:\n",
    "            break\n",
    "        \n",
    "        df = pd.DataFrame(data, columns=[\n",
    "            'timestamp', 'open', 'high', 'low', 'close', 'volume',\n",
    "            'close_time', 'quote_asset_volume', 'trades',\n",
    "            'taker_buy_base_volume', 'taker_buy_quote_volume', 'ignore'\n",
    "        ])\n",
    "        df['timestamp'] = pd.to_datetime(df['timestamp'], unit='ms')\n",
    "        df.set_index('timestamp', inplace=True)\n",
    "        \n",
    "        frames.append(df[['close']].astype(float).rename(columns={'close': symbol}))\n",
    "        \n",
    "        # advance start to one ms after last candle\n",
    "        last_ts = int(data[-1][0])\n",
    "        start_ms = last_ts + 1\n",
    "        time.sleep(0.5)  # throttle to avoid API limits\n",
    "    \n",
    "    if frames:\n",
    "        return pd.concat(frames)\n",
    "    else:\n",
    "        return pd.DataFrame(columns=[symbol])\n"
   ]
  },
  {
   "cell_type": "code",
   "execution_count": null,
   "id": "4c2f3fe1-2fc4-402c-9ba8-34f4bfba8c35",
   "metadata": {},
   "outputs": [],
   "source": [
    "def get_top_20_minute_closes(start_: str, end_: str, tickers: list) -> pd.DataFrame:\n",
    "    interval = \"1h\"\n",
    "    all_dfs = []\n",
    "    start_ms = int(pd.to_datetime(start_).timestamp() * 1000)\n",
    "    mid_ms = start_ms + 500 * 15 * 60 * 1000\n",
    "    end_ms = int(pd.to_datetime(end_).timestamp() * 1000)\n",
    "    i = 0\n",
    "    \n",
    "    for symbol in tickers:\n",
    "        i += 1\n",
    "        m = len(tickers)\n",
    "        print(f\"Starting {symbol}\")\n",
    "        symbol_list = []\n",
    "        start = start_ms\n",
    "        mid_ms = start_ms + 500 * 60 * 60 * 1000\n",
    "        end_ms = end_ms\n",
    "        \n",
    "        while start < end_ms: \n",
    "            print(f\"Fetching {symbol}, [{i} / {m}] from {pd.to_datetime(start, unit = \"ms\")} to {pd.to_datetime(mid_ms, unit=\"ms\")} …\")\n",
    "            df_symbol = get_binance_minute_data(symbol, start, mid_ms, str(interval))\n",
    "            symbol_list.append(df_symbol)\n",
    "            start = mid_ms \n",
    "            mid_ms = mid_ms + 500 * 60 * 60 * 1000   \n",
    "            if mid_ms > end_ms:\n",
    "                mid_ms = end_ms\n",
    "        \n",
    "        mid_ms = 0\n",
    "        non_empty = [a for a in symbol_list if not a.empty ]\n",
    "        symbol_total = pd.concat(non_empty, axis = 0)\n",
    "        symbol_total = symbol_total[~symbol_total.index.duplicated(keep='first')]  # FIX HIER\n",
    "        symbol_total.sort_index(inplace = True)\n",
    "        symbol_total.to_csv(f\"{symbol}.csv\")\n",
    "        all_dfs.append(symbol_total)\n",
    "        print(f\"Done for {symbol}\")\n",
    "        \n",
    "    # merge on index (timestamp), outer join to keep all times\n",
    "    if all_dfs:\n",
    "        merged = pd.concat(all_dfs, axis=1)\n",
    "        # optionally sort the index\n",
    "        merged.sort_index(inplace=True)\n",
    "        return merged\n",
    "    else:\n",
    "        return pd.DataFrame()\n",
    "\n"
   ]
  },
  {
   "cell_type": "code",
   "execution_count": null,
   "id": "f63e2e40-ed83-40c2-85af-abd8a4ddd380",
   "metadata": {},
   "outputs": [],
   "source": [
    "top_symbols = [\n",
    "        'BTCUSDT', 'ETHUSDT', 'BNBUSDT', 'SOLUSDT', 'XRPUSDT'\n",
    "    ]\n",
    "\n",
    "top_symbols2 = [\n",
    "    \"BTCUSDT\", \"ETHUSDT\", \"BNBUSDT\", \"XRPUSDT\", \"ADAUSDT\",\n",
    "    \"DOGEUSDT\", \"SOLUSDT\", \"MATICUSDT\", \"DOTUSDT\", \"LINKUSDT\",\n",
    "    \"LTCUSDT\", \"BCHUSDT\", \"TRXUSDT\", \"UNIUSDT\", \"AVAXUSDT\",\n",
    "    \"FILUSDT\", \"NEARUSDT\", \"APTUSDT\", \"APEUSDT\", \"ARBUSDT\",\n",
    "    \"MANAUSDT\", \"SANDUSDT\", \"ATOMUSDT\", \"OPUSDT\", \"FTMUSDT\"\n",
    "]\n",
    "\n",
    "short_data = top_symbols\n",
    "\n",
    "df_merged = get_top_20_minute_closes(\"2025-06-01 00:00:00\", \"2025-07-01 00:00:00\", short_data)\n",
    "df_merged.to_csv(\"raw_data.csv\", index = True)\n",
    "\n",
    "#df_merged = pd.read_csv(\"raw_data.csv\")\n",
    "#df_merged.head(3)\n"
   ]
  },
  {
   "cell_type": "code",
   "execution_count": null,
   "id": "5488085b-e24b-4967-83d8-deebfc2fb0e5",
   "metadata": {},
   "outputs": [],
   "source": []
  },
  {
   "cell_type": "code",
   "execution_count": null,
   "id": "cd758233-a510-4d3d-84d0-adbfa57595e0",
   "metadata": {},
   "outputs": [],
   "source": []
  },
  {
   "cell_type": "code",
   "execution_count": 14,
   "id": "22a2fdb2-7348-46e8-9671-50fdab776902",
   "metadata": {},
   "outputs": [
    {
     "data": {
      "text/plain": [
       "'1970-01-01 00:29:08.736000'"
      ]
     },
     "execution_count": 14,
     "metadata": {},
     "output_type": "execute_result"
    }
   ],
   "source": [
    "start = int(pd.to_datetime(\"2025-06-01 00:00:00\").timestamp() * 1000)\n",
    "str(pd.to_datetime(start))"
   ]
  },
  {
   "cell_type": "code",
   "execution_count": null,
   "id": "c378fbd8-70ba-4482-9783-9eff2b3e17a9",
   "metadata": {},
   "outputs": [],
   "source": []
  }
 ],
 "metadata": {
  "kernelspec": {
   "display_name": "Python [conda env:base] *",
   "language": "python",
   "name": "conda-base-py"
  },
  "language_info": {
   "codemirror_mode": {
    "name": "ipython",
    "version": 3
   },
   "file_extension": ".py",
   "mimetype": "text/x-python",
   "name": "python",
   "nbconvert_exporter": "python",
   "pygments_lexer": "ipython3",
   "version": "3.12.7"
  }
 },
 "nbformat": 4,
 "nbformat_minor": 5
}
